{
  "cells": [
    {
      "cell_type": "markdown",
      "source": [
        "#Latar Belakang\n",
        "Dalam menjalani kehidupan, manusia tidak hanya dituntut untuk menjadi sehat secara fisik. Sebab pada dasarnya manusia terkonsep dari dua sisi yakni jasmani dan rohani. Kedua sisi ini sangat penting dan tidak boleh ada yang diprioritaskan, karena manusia dikatakan sehat apabila yang dilakukan linear dengan apa yang dirasakan. Seperti pepatah lama mengatakan, di dalam tubuh yang sehat terdapat jiwa yang kuat. Ada beberapa hal yang dapat mengganggu kesehatan seseorang, baik jasmani maupun rohani. Salah satunya yakni lingkungan sosial yang mau tidak mau sudah menjadi bagian dari kehidupan seseorang. Dampak dari social society ini sangat besar, seseorang bisa menjadi ketergantungan, dan mereka cenderung hidup dan tumbuh dari komentar-komentar orang lain. Hal itu tidak menutup kemungkinan seseorang akan terancam yang namanya mental illness. Penyakit mental dapat membuat orang sulit untuk mengatasi pekerjaan, hubungan, dan kebutuhan lainnya. Oleh karena itu dibutuhkan upaya untuk mengatasi gangguan mental untuk menghidari kemungkinan terburuk lainnya dari gangguan mental."
      ],
      "metadata": {
        "id": "zg0J0wvooknW"
      }
    },
    {
      "cell_type": "markdown",
      "source": [
        "#Tujuan\n",
        "Tujuan dibuatnya ChatBot ini adalah untuk membantu para penderita penyakit mental dalam menemukan informasi terkait penyakit mental dan cara-cara untuk mengobatinya."
      ],
      "metadata": {
        "id": "9bPHjWInwYXc"
      }
    },
    {
      "cell_type": "markdown",
      "source": [
        "# **PROBLEM SCOPING**"
      ],
      "metadata": {
        "id": "nnD4ekwe-hsc"
      }
    },
    {
      "cell_type": "markdown",
      "source": [
        "\n",
        "> **WHO**\n",
        "> \n",
        "> Siapa yang memiliki masalah tersebut?\n",
        "- Orang yang menderita penyakit mental\n",
        "- Orang-orang yang kerabatnya menderita penyakit mental\n",
        "\n",
        "> **WHAT**\n",
        "> \n",
        "> Apa masalah yang dimiliki?\n",
        "- Rasa malu atau kurang percaya diri para penderita penyakit mental untuk mengungkapkan permasalahannya kepada orang lain\n",
        "\n",
        "> **WHERE**\n",
        "> \n",
        "> Di mana seseorang mengalami masalah tersebut?\n",
        "- Kalangan remaja, Dewasa, dan Lansia \n",
        "- Seseorang bisa mengalami masalah ini di lingkungan pertemanan ,masalah pertemanan adalah ketidak mampuan remaja dalam menjalin relasi pertemanan yang baik dengan teman sebayanya. Hubungan yang harmonis dengan teman sebaya selama masa remaja, berhubungan dengan kesehatan mental yang positif pada masa dewasa.  \n",
        "\n",
        "> **WHY**\n",
        "> \n",
        "> Mengapa kita perlu memecahkan masalah tersebut?\n",
        "- Memberikan kemudahan kepada para penderita penyakit mental untuk mendapatkan informasi mengenai penyakit mental dan cara-cara untuk mengobatinya sehingga mereka dapat melakukan penanggulangan secara mandiri\n",
        "- Membantu orang-orang yang kerabatnya adalah penderita penyakit mental agar mereka dapat memberikan bantuan atau dorongan kepada kerabat yang menderita penyakit mental"
      ],
      "metadata": {
        "id": "aj94R9MxQjYI"
      }
    },
    {
      "cell_type": "markdown",
      "metadata": {
        "id": "za1gVNL5CRGY"
      },
      "source": [
        "## AI Chatbot Versi Bahasa Indonesia mengenai Penyakit Mental\n"
      ]
    },
    {
      "cell_type": "code",
      "execution_count": null,
      "metadata": {
        "id": "yE4rWjtACRGf"
      },
      "outputs": [],
      "source": [
        "#sumber materi : https://towardsdatascience.com/making-a-simple-and-fast-chatbot-in-10-minutes-2d84a4ba35e\n",
        "#https://youtu.be/9KZwRBg4-P0"
      ]
    },
    {
      "cell_type": "markdown",
      "metadata": {
        "id": "YZW2gMYW-ZBR"
      },
      "source": [
        "## Tools scraping Artikel\n",
        "\n",
        "Pada program kali ini kami mengambil teks dari internet menggunakan tools newspaper3k"
      ]
    },
    {
      "cell_type": "code",
      "execution_count": null,
      "metadata": {
        "colab": {
          "base_uri": "https://localhost:8080/"
        },
        "id": "Q9_mnPq6NPUy",
        "outputId": "4539274c-d8af-4614-d586-b67dafc32b1e"
      },
      "outputs": [
        {
          "output_type": "stream",
          "name": "stdout",
          "text": [
            "Collecting gtts\n",
            "  Downloading gTTS-2.2.4-py3-none-any.whl (26 kB)\n",
            "Requirement already satisfied: six in /usr/local/lib/python3.7/dist-packages (from gtts) (1.15.0)\n",
            "Requirement already satisfied: requests in /usr/local/lib/python3.7/dist-packages (from gtts) (2.23.0)\n",
            "Requirement already satisfied: click in /usr/local/lib/python3.7/dist-packages (from gtts) (7.1.2)\n",
            "Requirement already satisfied: idna<3,>=2.5 in /usr/local/lib/python3.7/dist-packages (from requests->gtts) (2.10)\n",
            "Requirement already satisfied: certifi>=2017.4.17 in /usr/local/lib/python3.7/dist-packages (from requests->gtts) (2021.10.8)\n",
            "Requirement already satisfied: urllib3!=1.25.0,!=1.25.1,<1.26,>=1.21.1 in /usr/local/lib/python3.7/dist-packages (from requests->gtts) (1.24.3)\n",
            "Requirement already satisfied: chardet<4,>=3.0.2 in /usr/local/lib/python3.7/dist-packages (from requests->gtts) (3.0.4)\n",
            "Installing collected packages: gtts\n",
            "Successfully installed gtts-2.2.4\n"
          ]
        }
      ],
      "source": [
        "!pip install gtts #install gTTS (Google Text-to-Speech)"
      ]
    },
    {
      "cell_type": "code",
      "execution_count": null,
      "metadata": {
        "colab": {
          "base_uri": "https://localhost:8080/"
        },
        "id": "ye3nyhSyCRGi",
        "outputId": "6c26bd74-5dc0-44af-ef9d-7d8518a1354e"
      },
      "outputs": [
        {
          "output_type": "stream",
          "name": "stdout",
          "text": [
            "Collecting newspaper3k\n",
            "  Downloading newspaper3k-0.2.8-py3-none-any.whl (211 kB)\n",
            "\u001b[K     |████████████████████████████████| 211 kB 5.4 MB/s \n",
            "\u001b[?25hCollecting feedfinder2>=0.0.4\n",
            "  Downloading feedfinder2-0.0.4.tar.gz (3.3 kB)\n",
            "Requirement already satisfied: nltk>=3.2.1 in /usr/local/lib/python3.7/dist-packages (from newspaper3k) (3.2.5)\n",
            "Collecting feedparser>=5.2.1\n",
            "  Downloading feedparser-6.0.8-py3-none-any.whl (81 kB)\n",
            "\u001b[K     |████████████████████████████████| 81 kB 7.1 MB/s \n",
            "\u001b[?25hCollecting jieba3k>=0.35.1\n",
            "  Downloading jieba3k-0.35.1.zip (7.4 MB)\n",
            "\u001b[K     |████████████████████████████████| 7.4 MB 22.3 MB/s \n",
            "\u001b[?25hCollecting cssselect>=0.9.2\n",
            "  Downloading cssselect-1.1.0-py2.py3-none-any.whl (16 kB)\n",
            "Requirement already satisfied: PyYAML>=3.11 in /usr/local/lib/python3.7/dist-packages (from newspaper3k) (3.13)\n",
            "Requirement already satisfied: python-dateutil>=2.5.3 in /usr/local/lib/python3.7/dist-packages (from newspaper3k) (2.8.2)\n",
            "Requirement already satisfied: Pillow>=3.3.0 in /usr/local/lib/python3.7/dist-packages (from newspaper3k) (7.1.2)\n",
            "Collecting tldextract>=2.0.1\n",
            "  Downloading tldextract-3.2.0-py3-none-any.whl (87 kB)\n",
            "\u001b[K     |████████████████████████████████| 87 kB 5.4 MB/s \n",
            "\u001b[?25hCollecting tinysegmenter==0.3\n",
            "  Downloading tinysegmenter-0.3.tar.gz (16 kB)\n",
            "Requirement already satisfied: requests>=2.10.0 in /usr/local/lib/python3.7/dist-packages (from newspaper3k) (2.23.0)\n",
            "Requirement already satisfied: beautifulsoup4>=4.4.1 in /usr/local/lib/python3.7/dist-packages (from newspaper3k) (4.6.3)\n",
            "Requirement already satisfied: lxml>=3.6.0 in /usr/local/lib/python3.7/dist-packages (from newspaper3k) (4.2.6)\n",
            "Requirement already satisfied: six in /usr/local/lib/python3.7/dist-packages (from feedfinder2>=0.0.4->newspaper3k) (1.15.0)\n",
            "Collecting sgmllib3k\n",
            "  Downloading sgmllib3k-1.0.0.tar.gz (5.8 kB)\n",
            "Requirement already satisfied: idna<3,>=2.5 in /usr/local/lib/python3.7/dist-packages (from requests>=2.10.0->newspaper3k) (2.10)\n",
            "Requirement already satisfied: chardet<4,>=3.0.2 in /usr/local/lib/python3.7/dist-packages (from requests>=2.10.0->newspaper3k) (3.0.4)\n",
            "Requirement already satisfied: certifi>=2017.4.17 in /usr/local/lib/python3.7/dist-packages (from requests>=2.10.0->newspaper3k) (2021.10.8)\n",
            "Requirement already satisfied: urllib3!=1.25.0,!=1.25.1,<1.26,>=1.21.1 in /usr/local/lib/python3.7/dist-packages (from requests>=2.10.0->newspaper3k) (1.24.3)\n",
            "Requirement already satisfied: filelock>=3.0.8 in /usr/local/lib/python3.7/dist-packages (from tldextract>=2.0.1->newspaper3k) (3.6.0)\n",
            "Collecting requests-file>=1.4\n",
            "  Downloading requests_file-1.5.1-py2.py3-none-any.whl (3.7 kB)\n",
            "Building wheels for collected packages: tinysegmenter, feedfinder2, jieba3k, sgmllib3k\n",
            "  Building wheel for tinysegmenter (setup.py) ... \u001b[?25l\u001b[?25hdone\n",
            "  Created wheel for tinysegmenter: filename=tinysegmenter-0.3-py3-none-any.whl size=13553 sha256=989f2cff4fc7ab2e8ee2a66885e17bc9051d45d2a2cb4bae9b2b01ca5c6c1747\n",
            "  Stored in directory: /root/.cache/pip/wheels/df/67/41/faca10fa501ca010be41b49d40360c2959e1c4f09bcbfa37fa\n",
            "  Building wheel for feedfinder2 (setup.py) ... \u001b[?25l\u001b[?25hdone\n",
            "  Created wheel for feedfinder2: filename=feedfinder2-0.0.4-py3-none-any.whl size=3357 sha256=e1c0fc0b4fcaf8f0b9de4c2011f363ab42c1922becc6a37729bc6fa6d10ef852\n",
            "  Stored in directory: /root/.cache/pip/wheels/7f/d4/8f/6e2ca54744c9d7292d88ddb8d42876bcdab5e6d84a21c10346\n",
            "  Building wheel for jieba3k (setup.py) ... \u001b[?25l\u001b[?25hdone\n",
            "  Created wheel for jieba3k: filename=jieba3k-0.35.1-py3-none-any.whl size=7398404 sha256=30655b3905f3e69d9235b566b9d4aea487496be19cde22d037098bb256bc3b7e\n",
            "  Stored in directory: /root/.cache/pip/wheels/4c/91/46/3c208287b726df325a5979574324878b679116e4baae1af3c3\n",
            "  Building wheel for sgmllib3k (setup.py) ... \u001b[?25l\u001b[?25hdone\n",
            "  Created wheel for sgmllib3k: filename=sgmllib3k-1.0.0-py3-none-any.whl size=6066 sha256=1e97f45f39f5de76b899afeb012de90786304b4ab585c359a5d00b244d1d39ec\n",
            "  Stored in directory: /root/.cache/pip/wheels/73/ad/a4/0dff4a6ef231fc0dfa12ffbac2a36cebfdddfe059f50e019aa\n",
            "Successfully built tinysegmenter feedfinder2 jieba3k sgmllib3k\n",
            "Installing collected packages: sgmllib3k, requests-file, tldextract, tinysegmenter, jieba3k, feedparser, feedfinder2, cssselect, newspaper3k\n",
            "Successfully installed cssselect-1.1.0 feedfinder2-0.0.4 feedparser-6.0.8 jieba3k-0.35.1 newspaper3k-0.2.8 requests-file-1.5.1 sgmllib3k-1.0.0 tinysegmenter-0.3 tldextract-3.2.0\n"
          ]
        }
      ],
      "source": [
        "!pip install newspaper3k  #install newspaper3k untuk scraping artikel"
      ]
    },
    {
      "cell_type": "code",
      "execution_count": null,
      "metadata": {
        "id": "4FGmgeEECRGi"
      },
      "outputs": [],
      "source": [
        "# Import library\n",
        "from newspaper import Article #Import artikel dari library newspaper3k\n",
        "import random #Import library untuk menghasilkan output nilai acak (random) dari sebuah list print\n",
        "import nltk #Import library nltk untuk memproses teks (seperti classification, tokenization, stemming, tagging, parsing, dan semantic reasoning)\n",
        "import string #Import library untuk penggunaan tipe data string\n",
        "from sklearn.feature_extraction.text import CountVectorizer #Import CountVetorizer dari library sklearn untuk mengonversi kumpulan dokumen teks menjadi matriks jumlah token.\n",
        "from sklearn.metrics.pairwise import cosine_similarity #import cosine_similarity dari library sklearn untuk menghitung kata yang cocok\n",
        "import numpy as np #Import library untuk melakukan operasi vektor dan matriks dengan mengolah array\n",
        "import pandas as pd #Import library untuk mengolah dan manganalisa data\n",
        "import warnings #Import modul untuk menampilkan pesan peringatan jika terjadi suatu kondisi pada program\n",
        "import re #Import modul regular expression\n",
        "warnings.filterwarnings('ignore') #Never display warnings which match\n",
        "\n",
        "from gtts import gTTS #gTTS (Google Text-to-Speech)\n",
        "import IPython.display as ipd #display tools\n",
        "import time\n",
        "from io import BytesIO #to kept data as bytes in an in-memory buffer"
      ]
    },
    {
      "cell_type": "code",
      "execution_count": null,
      "metadata": {
        "colab": {
          "base_uri": "https://localhost:8080/"
        },
        "id": "Sa8BD2nwCRGj",
        "outputId": "43e52a3b-43a9-4dd1-eda8-31ea1d95a05c"
      },
      "outputs": [
        {
          "output_type": "execute_result",
          "data": {
            "text/plain": [
              "True"
            ]
          },
          "metadata": {},
          "execution_count": 4
        }
      ],
      "source": [
        "nltk.download('punkt', quiet=True) # punkt adalah kelas abstrak untuk untuk menampilkan hasil Tokenization yang disediakan dalam NLTK."
      ]
    },
    {
      "cell_type": "markdown",
      "metadata": {
        "id": "LTnOWF68CRGk"
      },
      "source": [
        "# **DATA ACQUISITION**\n",
        "\n",
        "##Proses 1 : Membuat korpus dengan mendownload artikel dari sebuah link\n"
      ]
    },
    {
      "cell_type": "code",
      "execution_count": null,
      "metadata": {
        "colab": {
          "base_uri": "https://localhost:8080/"
        },
        "id": "otZH3R0eCRGk",
        "outputId": "ae47515a-029d-4497-c48e-f97c20145f4b"
      },
      "outputs": [
        {
          "output_type": "stream",
          "name": "stdout",
          "text": [
            "Dalam menjalani kehidupan, manusia tidak hanya dituntut untuk menjadi sehat secara fisik. Sebab pada dasarnya manusia terkonsep dari dua sisi yakni jasmani dan rohani. Kedua sisi ini sangat penting dan tidak boleh ada yang diprioritaskan, karena manusia dikatakan sehat apabila yang dilakukan linear dengan apa yang dirasakan. Seperti pepatah lama mengatakan, di dalam tubuh yang sehat terdapat jiwa yang kuat.\n",
            "\n",
            "Ada beberapa hal yang dapat mengganggu kesehatan seseorang, baik jasmani maupun rohani. Salah satunya yakni lingkungan sosial yang mau tidak mau sudah menjadi bagian dari kehidupan seseorang. Ditambah lagi, lingkungan sosial tidak hanya dilewati untuk jangka pendek, melainkan seumur hidup.\n",
            "\n",
            "Dampak dari social society ini sangat besar, seseorang bisa menjadi ketergantungan, dan mereka cenderung hidup dan tumbuh dari komentar-komentar orang lain. Mereka biasanya menganggap komentar orang lain sebagai patokan dirinya harus berperilaku dan bersikap. Mereka juga menjadikan komentar orang lain sebagai evaluasi dirinya untuk lebih baik.\n",
            "\n",
            "Tidak ada yang salah memang dengan masukan-masukan orang lain. Namun pada kenyataannya, komentar yang mereka serap justru seringkali menciptakan kecemasan tersendiri. Pemikiran-pemikiran mereka yang harus menjadi perfect person, mendorong mereka terjerat dan terpaku pada masukan-masukan yang seharusnya membangun. Tidak berhasil menjadi lebih baik, pada akhirnya mereka hanya terjebak di dalam banjir komentar yang tiap harinya terus mencekam.\n",
            "\n",
            "Tidak perlu jauh-jauh, kita sendiri pasti termasuk dalam mereka yang mementingkan komentar orang lain dibanding komentar diri sendiri. Kita sendiri pasti beberapa kali pernah mengalami yang namanya akan berubah seperti yang orang lain katakan. Kita juga tak segan-segan menumbuhkan pribadi yang diinginkan orang lain.\n",
            "\n",
            "Dengan adanya pemikiran seperti itu tidak menutup kemungkinan seseorang akan terancam yang namanya mental illness. Mental illness adalah kumpulan penyakit gangguan kejiwaan yang mempengaruhi pikiran, perasaan, dan perilaku seseorang. Munculnya mental illness disebabkan oleh beberapa hal seperti depresi yang berkepanjangan, stress, tekanan yang dalam terhadap kesehatan mental, hingga traumatik akan kehilangan sesuatu atau seseorang. Apabila seseorang tidak dapat meminimalisir atau menyaring komentar-komentar yang ia dapat, maka akan berpengaruh pada pikiran dan psikisnya.\n",
            "\n",
            "Hasil survei Wolrd Health Organization (WHO) menunjukan bahwa ada 20 persen anak-anak dan remaja yang mengalami gangguan dan permasalahan mental. Kemudian masih dalam hasil surveinya, juga tercatat 800.000 orang setiap tahunnya mati karena bunuh diri. Bunuh diri ini menjadi penyebab kematian terbesar kedua yang didominasi remaja kisaran umur 15-29.\n",
            "\n",
            "Seperti baru-baru ini kasus yang menimpa seorang public figure asal negeri ginseng. Wanita pemilik nama Choi Jin Ri atau akrab disapa Sulli ini aktif dalam dunia entertainment sejak usia kanak-kanak. Wanita mantan member f(x) yang meniti karirnya sendiri hingga menjadi sukses seperti yang diidam-idamkan banyak orang. Ia ditemukan tewas di apartemennya dengan kondisi gantung diri pada 14 Oktober 2019 lalu. Ia diduga mengalami depresi parah akibat hujatan-hujatan yang ia terima beberapa tahun terakhir.\n",
            "\n",
            "Maka, dengan mata telanjang kitapun akan paham apa yang dialami Choi Jin Ri, bahwa dirinya dengan susah payah terus bertahan hidup walau dengan segudang komentar pahit dan kejam dari orang lain. Banyak sekali pernyatan-pernyataan dirinya atau gerak gerik dirinya yang memang sudah mengisyaratkan dirinya sudah tak tahan untuk terus hidup dari komentar-komentar orang lain. Bahkan sempat ramai, video live instagram terakhirnya pun menunjukkan ketidakkuatan dirinya menjalani kehidupan entertainmentnya.\n",
            "\n",
            "Tidak hanya dialami oleh wanita usia 25 tahun ini saja, masih banyak segudang dari golongan mereka yang lebih memilih untuk mengakhiri hidupnya. Seperti Kim Jong Hyun, personil Shinee yang memilih menutup usianya pada 18 Desember 2017 silam. Ada juga Ahn so jin yang mulanya akan menjadi salah satu personil KARA, memilih mengakhiri hidupnya pada 24 Februari 2015, dan hal itu disebabkan karena depresi yang dialaminya.\n",
            "\n",
            "Lalu dari mana bunuh diri menjadi sangat tenar dikalangan anak-anak dan remaja? Hal itu tak lain bermula dari hasrat atau keinginan mereka agar lebih baik seperti yang diharapkan orang lain. Jika itu sudah menjadi suatu keinginan, otomatis akan adanya usaha agar seperti yang mereka inginkan itu. Tanpa melihat kondisi dirinya sendiri, atau bahkan memahami kebutuhan yang harusnya ia penuhi. Mereka takut apabila komentar-komentar untuk dirinya justru lebih banyak ketika dirinya tidak melakukan seperti yang dikatakan orang lain.\n",
            "\n",
            "Lihat Ruang Kelas Selengkapnya\n",
            "\n",
            "Beri Komentar Berkomentarlah secara bijaksana dan bertanggung jawab. Komentar sepenuhnya menjadi tanggung jawab komentator seperti diatur dalam UU ITE KIRIM Belum ada komentar. Jadilah yang pertama untuk memberikan komentar! Lihat Semua Komentar (0)Apa sih mental illness itu?\n",
            "\n",
            "Mental illness dikenal sebagai gangguan kesehatan mental yang mengacu pada berbagai kondisi kesehatan mental yang dapat memengaruhi suasana hati, pemikiran, dan perilaku seseorang. Contoh penyakit mental seperti depresi, kecemasan, skizofrenia, gangguan makan, dan perilaku adiktif.\n",
            "\n",
            "Penyakit mental dapat membuat orang sulit untuk mengatasi pekerjaan, hubungan, dan kebutuhan lainnya. Hubungan antara stress dan penyakit mental itu rumit, tetapi dapat diketahui bahwa stresslah yang dapat memperburuk timbulnya penyakit mental.\n",
            "\n",
            "Ada banyak penyebab penyakit mental ini, bisa jadi mungkin karena stress, depresi karena tekanan mental yang begitu dalam, atau kehilangan sesuatu dan seseorang yang dapat membuat trauma, tekanan batin akibat lingkungan sekitar atau orang tua, kurangnya perhatian, dll.\n",
            "\n",
            "Adapun macam-macam bentuk serta gejala mental illness\n",
            "\n",
            "1. Anxiety Disorder\n",
            "\n",
            "Dilansir dari healtline.com, \"Anxiety is your body's natural response to stress. It's a feeling of fear or apprehension about what's to come. The first day of school, going to a job interview, or giving a speech may cause most people to feel fearful and nervous\".\n",
            "\n",
            "Kecemasan adalah respons alami tubuh terhadap stress, merasa takut atau khawatir tentang apa yang akan terjadi, biasanya si penderita mengalami rasa ketakutan berlebih pada kondisi tertentu dan ini terjadi secara alami pada tubuh seseorang seperti, ketika pertama kali masuk sekolah, menjalani tes wawancara, atau bahkan berpidato di depan umum yang dapat membuat mereka merasa takut dan gugup.\n",
            "\n",
            "Namun, Seiring berjalannya waktu, kecemasan ini juga dapat membuat si penderita merasa tertekan, ingin bunuh diri, dan menyalahgunakan narkoba atau alkohol. Oleh karena itu, jika kalian mengalami situasi ini, segera konsultasikan dengan psikiater.\n",
            "\n",
            "2. Psychotic\n",
            "\n",
            "Psychotic Disorder adalah gangguan mental serius yang dapat menyebabkan pemikiran dan persepsi tidak normal. Dalam kasus lain, kondisi ini dapat disebabkan oleh kondisi kesehatan, pengobatan, atau penggunaan narkoba. Ada dua gejala utama dalam psychotic disorder yaitu delusi dan halusinasi. Delusi adalah keyakinan yang salah, seperti berpikir bahwa ada kumpulan / komplotan orang melawan kalian atau mengirim suatu pesan rahasia, sedangkan Halusinasi adalah persepsi yang salah, seperti mendengar, melihat atau merasakan sesuatu yang tidak ada. Selain itu, adapun gejala lain seperti bicara cadel dan perasaan gelisah. Orang dengan kondisi seperti ini biasanya tidak mengetahui perilaku / tingkah lakunya. Penanganan yang dapat dilakukan berupa pengobatan dan terapi bicara.\n",
            "\n",
            "Lihat Kesehatan Selengkapnya\n",
            "\n",
            "Beri Komentar Berkomentarlah secara bijaksana dan bertanggung jawab. Komentar sepenuhnya menjadi tanggung jawab komentator seperti diatur dalam UU ITE KIRIM Belum ada komentar. Jadilah yang pertama untuk memberikan komentar! Lihat Semua Komentar (0)Pernahkah Anda mendengar tentang penyakit atau gangguan mental? Jika belum, Anda bisa mencari referensi dulu mengenai gangguan mental di artikel atau video microlearning yang ada di aplikasi belajar online QuBisa. Cukup banyak sudah bahasan mengenai gangguan mental dan kenapa Anda perlu mewaspadainya.\n",
            "\n",
            "Setelah mengetahui dan mengenal mental disorder, termasuk penyebabnya, kini saatnya Anda memahami seperti apa gejala hingga jenis-jenis penyakit mental. Terlebih lagi dalam kondisi perekonomian serba sulit seperti sekarang, bisa saja pasangan Anda, sahabat dekat, keluarga, atau bahkan Anda sendiri, mengalami kondisi mental bermasalah yang jika dibiarkan jelas akan membebani kehidupan dan berujung pada kondisi buruk.\n",
            "\n",
            "Jenis dan Gejala Gangguan Mental\n",
            "\n",
            "Untuk bisa mencari solusi dan cara mengatasi gangguan mental, Anda perlu mengenal jenis gangguan mental dan gejalanya terlebih dahulu. Karena setiap jenis akan menunjukkan gejala yang berbeda. Otomatis penanganannya pun jelas berbeda. Berikut jenis dan gejala gangguan mental yang perlu Anda pahami:\n",
            "\n",
            "Gangguan Afektif (Mood)\n",
            "\n",
            "Gejala yang paling terlihat dari penderita gangguan mood adalah mereka bisa saja terus menangis sepanjang hari atau gembira luar biasa dalam kurun waktu tertentu dan berubah sangat cepat.\n",
            "\n",
            "Gangguan Pola Makan\n",
            "\n",
            "Penderita mengalami perubahaan kebiasaan, emosi, dan perilaku saat makan. Beberapa contoh gangguan pola makan , seperti anoreksia nervosa, bulimia nervosa, hingga binge eating.\n",
            "\n",
            "OCD (Obsessive-Compulsive Disorder)\n",
            "\n",
            "Tanda-tanda paling jelas saat seseorang mengalami OCD adalah pola pikir yang selalu dipenuhi ketakutan, sehingga memaksa diri melakukan hal-hal berulang alias kompulsif. Gejala yang ditunjukkan kadang mirip dengan gangguan mental yang mengarah ke gangguan cemas . Itu sebabnya, dibutuhkan pemeriksaan lebih lanjut mengenai jenis, gejala, dan cara mengatasi penyakit mental secara tepat.\n",
            "\n",
            "Gangguan Psikotik\n",
            "\n",
            "Lantaran membuat pikiran dan kesadaran kacau, gejala paling menonjol dari gangguan psikotik adalah mengalami halusinasi hingga delusi.\n",
            "\n",
            "PTSD (Post-Traumatic Stress Disorder)\n",
            "\n",
            "PTSD bisa terjadi karena penderita mengalami kejadian traumatis, seperti pelecehan seksual atau sexual harassment , kecelakaan, bencana alam, hingga kematian anggota keluarga secara tiba-tiba\n",
            "\n",
            "Gangguan Kepribadian\n",
            "\n",
            "Seperti namanya, penderita mengalami gangguan kepribadian yang membuat karakternya berubah-ubah. Bisa menjadi ekstrem yang tak sesuai dengan kebiasaan masyarakat.\n",
            "\n",
            "Gangguan Kecemasan\n",
            "\n",
            "Merupakan jenis mental disorder yang paling sering dialami. Penderita penyakit ini mengalami cemas berlebih dalam merespons objek atau situasi dengan perasaan takut dan panik yang luar biasa tinggi, sehingga membuat jantung berdegup kencang.\n",
            "\n",
            "Gangguan Ketidakmampuan Mengontrol Keinginan\n",
            "\n",
            "Sesuai dengan namanya, penderita penyakit ini tak bisa menahan diri melakukan hal-hal yang sebetulnya membahayakan diri dan orang lain. Contoh gangguan jiwa ini adalah kleptomania (mencuri barang-barang kecil) atau pyromania (menyulut api).\n",
            "\n",
            "Cara Mengatasi Gangguan Mental\n",
            "\n",
            "Adakah cara mengatasi gangguan mental ? Tentu ada. Supaya bisa terbebas dari gangguan mental, diperlukan usaha yang cukup keras dari si penderita. Agar dapat memperoleh bantuan tenaga profesional, jangan malu untuk berkonsultasi dengan psikiater. Biasanya sang dokter jiwa ini akan memberikan anjuran untuk mencegah masalah mental seperti:\n",
            "\n",
            "Memelihara pikiran positif .\n",
            "\n",
            "Istirahat yang cukup.\n",
            "\n",
            "Tetap beraktivitas fisik secara aktif .\n",
            "\n",
            "Melakukan terapi kognitif sebagai bentuk psikoterapi yang bertujuan mengubah pola pikir penderita agar lebih baik.\n",
            "\n",
            "Mengonsumsi sejumlah obat dari psikiater, seperti antidepresan, antipsikotik, pereda cemas, hingga mood stabilizer.\n",
            "\n",
            "Melihat betapa banyaknya masalah mental dengan dampak yang cukup buruk, Anda perlu mulai memahami betapa pentingnya menjaga kesehatan mental adalah hal penting. Ingat, jangan sampai Anda meremehkan seseorang atau diri sendiri jika sudah mulai menunjukkan gejala mental illness. Berkonsultasi ke dokter jiwa adalah pilihan yang tepat supaya kehidupan bisa jauh lebih teratur.\n"
          ]
        }
      ],
      "source": [
        "#Membuat korpus\n",
        "#article.download() => untuk download article\n",
        "#article.parse() => untuk menguraikan article\n",
        "#article.nlp() => untuk mengolah kata kunci dari artikel menggunakan NLP dan juga meringkas artikel.\n",
        "#corpus = article.text #Membuat corpus dari kumpulan article yang telah di-download\n",
        "#print(corpus) #Menampilkan isi corpus\n",
        "article = Article('https://www.kompasiana.com/nainnahalisha1704/617e8c5979b2394961324782/mental-illness-salah-siapa')\n",
        "article.download()\n",
        "article.parse()\n",
        "article.nlp()\n",
        "article2 = Article('https://www.kompasiana.com/bryanitazizah/6062b6db8ede48269735bb73/stress-yuk-kenali-mental-illness-ini')\n",
        "article2.download()\n",
        "article2.parse()\n",
        "article2.nlp()\n",
        "article3 = Article('https://www.qubisa.com/article/penyakit-mental-dan-mengatasinya#showContent')\n",
        "article3.download()\n",
        "article3.parse()\n",
        "article3.nlp()\n",
        "corpus = article.text+article2.text+article3.text\n",
        "print(corpus)"
      ]
    },
    {
      "cell_type": "markdown",
      "metadata": {
        "id": "bGmRAQ9WCRGl"
      },
      "source": [
        "# **DATA EXPLORATION**\n",
        "\n",
        "##Proses 2 : Tokenization \n",
        "Tokenization disini digunakan untuk memecahkan setiap kalimat dalam suatu teks"
      ]
    },
    {
      "cell_type": "code",
      "execution_count": null,
      "metadata": {
        "colab": {
          "base_uri": "https://localhost:8080/"
        },
        "id": "vh1UaZ3kCRGl",
        "outputId": "284e1c14-0544-40af-8442-f2b68e5253ee"
      },
      "outputs": [
        {
          "output_type": "stream",
          "name": "stdout",
          "text": [
            "['Dalam menjalani kehidupan, manusia tidak hanya dituntut untuk menjadi sehat secara fisik.', 'Sebab pada dasarnya manusia terkonsep dari dua sisi yakni jasmani dan rohani.', 'Kedua sisi ini sangat penting dan tidak boleh ada yang diprioritaskan, karena manusia dikatakan sehat apabila yang dilakukan linear dengan apa yang dirasakan.', 'Seperti pepatah lama mengatakan, di dalam tubuh yang sehat terdapat jiwa yang kuat.', 'Ada beberapa hal yang dapat mengganggu kesehatan seseorang, baik jasmani maupun rohani.', 'Salah satunya yakni lingkungan sosial yang mau tidak mau sudah menjadi bagian dari kehidupan seseorang.', 'Ditambah lagi, lingkungan sosial tidak hanya dilewati untuk jangka pendek, melainkan seumur hidup.', 'Dampak dari social society ini sangat besar, seseorang bisa menjadi ketergantungan, dan mereka cenderung hidup dan tumbuh dari komentar-komentar orang lain.', 'Mereka biasanya menganggap komentar orang lain sebagai patokan dirinya harus berperilaku dan bersikap.', 'Mereka juga menjadikan komentar orang lain sebagai evaluasi dirinya untuk lebih baik.', 'Tidak ada yang salah memang dengan masukan-masukan orang lain.', 'Namun pada kenyataannya, komentar yang mereka serap justru seringkali menciptakan kecemasan tersendiri.', 'Pemikiran-pemikiran mereka yang harus menjadi perfect person, mendorong mereka terjerat dan terpaku pada masukan-masukan yang seharusnya membangun.', 'Tidak berhasil menjadi lebih baik, pada akhirnya mereka hanya terjebak di dalam banjir komentar yang tiap harinya terus mencekam.', 'Tidak perlu jauh-jauh, kita sendiri pasti termasuk dalam mereka yang mementingkan komentar orang lain dibanding komentar diri sendiri.', 'Kita sendiri pasti beberapa kali pernah mengalami yang namanya akan berubah seperti yang orang lain katakan.', 'Kita juga tak segan-segan menumbuhkan pribadi yang diinginkan orang lain.', 'Dengan adanya pemikiran seperti itu tidak menutup kemungkinan seseorang akan terancam yang namanya mental illness.', 'Mental illness adalah kumpulan penyakit gangguan kejiwaan yang mempengaruhi pikiran, perasaan, dan perilaku seseorang.', 'Munculnya mental illness disebabkan oleh beberapa hal seperti depresi yang berkepanjangan, stress, tekanan yang dalam terhadap kesehatan mental, hingga traumatik akan kehilangan sesuatu atau seseorang.', 'Apabila seseorang tidak dapat meminimalisir atau menyaring komentar-komentar yang ia dapat, maka akan berpengaruh pada pikiran dan psikisnya.', 'Hasil survei Wolrd Health Organization (WHO) menunjukan bahwa ada 20 persen anak-anak dan remaja yang mengalami gangguan dan permasalahan mental.', 'Kemudian masih dalam hasil surveinya, juga tercatat 800.000 orang setiap tahunnya mati karena bunuh diri.', 'Bunuh diri ini menjadi penyebab kematian terbesar kedua yang didominasi remaja kisaran umur 15-29.', 'Seperti baru-baru ini kasus yang menimpa seorang public figure asal negeri ginseng.', 'Wanita pemilik nama Choi Jin Ri atau akrab disapa Sulli ini aktif dalam dunia entertainment sejak usia kanak-kanak.', 'Wanita mantan member f(x) yang meniti karirnya sendiri hingga menjadi sukses seperti yang diidam-idamkan banyak orang.', 'Ia ditemukan tewas di apartemennya dengan kondisi gantung diri pada 14 Oktober 2019 lalu.', 'Ia diduga mengalami depresi parah akibat hujatan-hujatan yang ia terima beberapa tahun terakhir.', 'Maka, dengan mata telanjang kitapun akan paham apa yang dialami Choi Jin Ri, bahwa dirinya dengan susah payah terus bertahan hidup walau dengan segudang komentar pahit dan kejam dari orang lain.', 'Banyak sekali pernyatan-pernyataan dirinya atau gerak gerik dirinya yang memang sudah mengisyaratkan dirinya sudah tak tahan untuk terus hidup dari komentar-komentar orang lain.', 'Bahkan sempat ramai, video live instagram terakhirnya pun menunjukkan ketidakkuatan dirinya menjalani kehidupan entertainmentnya.', 'Tidak hanya dialami oleh wanita usia 25 tahun ini saja, masih banyak segudang dari golongan mereka yang lebih memilih untuk mengakhiri hidupnya.', 'Seperti Kim Jong Hyun, personil Shinee yang memilih menutup usianya pada 18 Desember 2017 silam.', 'Ada juga Ahn so jin yang mulanya akan menjadi salah satu personil KARA, memilih mengakhiri hidupnya pada 24 Februari 2015, dan hal itu disebabkan karena depresi yang dialaminya.', 'Lalu dari mana bunuh diri menjadi sangat tenar dikalangan anak-anak dan remaja?', 'Hal itu tak lain bermula dari hasrat atau keinginan mereka agar lebih baik seperti yang diharapkan orang lain.', 'Jika itu sudah menjadi suatu keinginan, otomatis akan adanya usaha agar seperti yang mereka inginkan itu.', 'Tanpa melihat kondisi dirinya sendiri, atau bahkan memahami kebutuhan yang harusnya ia penuhi.', 'Mereka takut apabila komentar-komentar untuk dirinya justru lebih banyak ketika dirinya tidak melakukan seperti yang dikatakan orang lain.', 'Lihat Ruang Kelas Selengkapnya\\n\\nBeri Komentar Berkomentarlah secara bijaksana dan bertanggung jawab.', 'Komentar sepenuhnya menjadi tanggung jawab komentator seperti diatur dalam UU ITE KIRIM Belum ada komentar.', 'Jadilah yang pertama untuk memberikan komentar!', 'Lihat Semua Komentar (0)Apa sih mental illness itu?', 'Mental illness dikenal sebagai gangguan kesehatan mental yang mengacu pada berbagai kondisi kesehatan mental yang dapat memengaruhi suasana hati, pemikiran, dan perilaku seseorang.', 'Contoh penyakit mental seperti depresi, kecemasan, skizofrenia, gangguan makan, dan perilaku adiktif.', 'Penyakit mental dapat membuat orang sulit untuk mengatasi pekerjaan, hubungan, dan kebutuhan lainnya.', 'Hubungan antara stress dan penyakit mental itu rumit, tetapi dapat diketahui bahwa stresslah yang dapat memperburuk timbulnya penyakit mental.', 'Ada banyak penyebab penyakit mental ini, bisa jadi mungkin karena stress, depresi karena tekanan mental yang begitu dalam, atau kehilangan sesuatu dan seseorang yang dapat membuat trauma, tekanan batin akibat lingkungan sekitar atau orang tua, kurangnya perhatian, dll.', 'Adapun macam-macam bentuk serta gejala mental illness\\n\\n1.', 'Anxiety Disorder\\n\\nDilansir dari healtline.com, \"Anxiety is your body\\'s natural response to stress.', \"It's a feeling of fear or apprehension about what's to come.\", 'The first day of school, going to a job interview, or giving a speech may cause most people to feel fearful and nervous\".', 'Kecemasan adalah respons alami tubuh terhadap stress, merasa takut atau khawatir tentang apa yang akan terjadi, biasanya si penderita mengalami rasa ketakutan berlebih pada kondisi tertentu dan ini terjadi secara alami pada tubuh seseorang seperti, ketika pertama kali masuk sekolah, menjalani tes wawancara, atau bahkan berpidato di depan umum yang dapat membuat mereka merasa takut dan gugup.', 'Namun, Seiring berjalannya waktu, kecemasan ini juga dapat membuat si penderita merasa tertekan, ingin bunuh diri, dan menyalahgunakan narkoba atau alkohol.', 'Oleh karena itu, jika kalian mengalami situasi ini, segera konsultasikan dengan psikiater.', '2.', 'Psychotic\\n\\nPsychotic Disorder adalah gangguan mental serius yang dapat menyebabkan pemikiran dan persepsi tidak normal.', 'Dalam kasus lain, kondisi ini dapat disebabkan oleh kondisi kesehatan, pengobatan, atau penggunaan narkoba.', 'Ada dua gejala utama dalam psychotic disorder yaitu delusi dan halusinasi.', 'Delusi adalah keyakinan yang salah, seperti berpikir bahwa ada kumpulan / komplotan orang melawan kalian atau mengirim suatu pesan rahasia, sedangkan Halusinasi adalah persepsi yang salah, seperti mendengar, melihat atau merasakan sesuatu yang tidak ada.', 'Selain itu, adapun gejala lain seperti bicara cadel dan perasaan gelisah.', 'Orang dengan kondisi seperti ini biasanya tidak mengetahui perilaku / tingkah lakunya.', 'Penanganan yang dapat dilakukan berupa pengobatan dan terapi bicara.', 'Lihat Kesehatan Selengkapnya\\n\\nBeri Komentar Berkomentarlah secara bijaksana dan bertanggung jawab.', 'Komentar sepenuhnya menjadi tanggung jawab komentator seperti diatur dalam UU ITE KIRIM Belum ada komentar.', 'Jadilah yang pertama untuk memberikan komentar!', 'Lihat Semua Komentar (0)Pernahkah Anda mendengar tentang penyakit atau gangguan mental?', 'Jika belum, Anda bisa mencari referensi dulu mengenai gangguan mental di artikel atau video microlearning yang ada di aplikasi belajar online QuBisa.', 'Cukup banyak sudah bahasan mengenai gangguan mental dan kenapa Anda perlu mewaspadainya.', 'Setelah mengetahui dan mengenal mental disorder, termasuk penyebabnya, kini saatnya Anda memahami seperti apa gejala hingga jenis-jenis penyakit mental.', 'Terlebih lagi dalam kondisi perekonomian serba sulit seperti sekarang, bisa saja pasangan Anda, sahabat dekat, keluarga, atau bahkan Anda sendiri, mengalami kondisi mental bermasalah yang jika dibiarkan jelas akan membebani kehidupan dan berujung pada kondisi buruk.', 'Jenis dan Gejala Gangguan Mental\\n\\nUntuk bisa mencari solusi dan cara mengatasi gangguan mental, Anda perlu mengenal jenis gangguan mental dan gejalanya terlebih dahulu.', 'Karena setiap jenis akan menunjukkan gejala yang berbeda.', 'Otomatis penanganannya pun jelas berbeda.', 'Berikut jenis dan gejala gangguan mental yang perlu Anda pahami:\\n\\nGangguan Afektif (Mood)\\n\\nGejala yang paling terlihat dari penderita gangguan mood adalah mereka bisa saja terus menangis sepanjang hari atau gembira luar biasa dalam kurun waktu tertentu dan berubah sangat cepat.', 'Gangguan Pola Makan\\n\\nPenderita mengalami perubahaan kebiasaan, emosi, dan perilaku saat makan.', 'Beberapa contoh gangguan pola makan , seperti anoreksia nervosa, bulimia nervosa, hingga binge eating.', 'OCD (Obsessive-Compulsive Disorder)\\n\\nTanda-tanda paling jelas saat seseorang mengalami OCD adalah pola pikir yang selalu dipenuhi ketakutan, sehingga memaksa diri melakukan hal-hal berulang alias kompulsif.', 'Gejala yang ditunjukkan kadang mirip dengan gangguan mental yang mengarah ke gangguan cemas .', 'Itu sebabnya, dibutuhkan pemeriksaan lebih lanjut mengenai jenis, gejala, dan cara mengatasi penyakit mental secara tepat.', 'Gangguan Psikotik\\n\\nLantaran membuat pikiran dan kesadaran kacau, gejala paling menonjol dari gangguan psikotik adalah mengalami halusinasi hingga delusi.', 'PTSD (Post-Traumatic Stress Disorder)\\n\\nPTSD bisa terjadi karena penderita mengalami kejadian traumatis, seperti pelecehan seksual atau sexual harassment , kecelakaan, bencana alam, hingga kematian anggota keluarga secara tiba-tiba\\n\\nGangguan Kepribadian\\n\\nSeperti namanya, penderita mengalami gangguan kepribadian yang membuat karakternya berubah-ubah.', 'Bisa menjadi ekstrem yang tak sesuai dengan kebiasaan masyarakat.', 'Gangguan Kecemasan\\n\\nMerupakan jenis mental disorder yang paling sering dialami.', 'Penderita penyakit ini mengalami cemas berlebih dalam merespons objek atau situasi dengan perasaan takut dan panik yang luar biasa tinggi, sehingga membuat jantung berdegup kencang.', 'Gangguan Ketidakmampuan Mengontrol Keinginan\\n\\nSesuai dengan namanya, penderita penyakit ini tak bisa menahan diri melakukan hal-hal yang sebetulnya membahayakan diri dan orang lain.', 'Contoh gangguan jiwa ini adalah kleptomania (mencuri barang-barang kecil) atau pyromania (menyulut api).', 'Cara Mengatasi Gangguan Mental\\n\\nAdakah cara mengatasi gangguan mental ?', 'Tentu ada.', 'Supaya bisa terbebas dari gangguan mental, diperlukan usaha yang cukup keras dari si penderita.', 'Agar dapat memperoleh bantuan tenaga profesional, jangan malu untuk berkonsultasi dengan psikiater.', 'Biasanya sang dokter jiwa ini akan memberikan anjuran untuk mencegah masalah mental seperti:\\n\\nMemelihara pikiran positif .', 'Istirahat yang cukup.', 'Tetap beraktivitas fisik secara aktif .', 'Melakukan terapi kognitif sebagai bentuk psikoterapi yang bertujuan mengubah pola pikir penderita agar lebih baik.', 'Mengonsumsi sejumlah obat dari psikiater, seperti antidepresan, antipsikotik, pereda cemas, hingga mood stabilizer.', 'Melihat betapa banyaknya masalah mental dengan dampak yang cukup buruk, Anda perlu mulai memahami betapa pentingnya menjaga kesehatan mental adalah hal penting.', 'Ingat, jangan sampai Anda meremehkan seseorang atau diri sendiri jika sudah mulai menunjukkan gejala mental illness.', 'Berkonsultasi ke dokter jiwa adalah pilihan yang tepat supaya kehidupan bisa jauh lebih teratur.']\n"
          ]
        }
      ],
      "source": [
        "# Tokenization\n",
        "text = corpus\n",
        "sentence_list = nltk.sent_tokenize(text) #A list of sentences\n",
        "\n",
        "# Print the list of sentences\n",
        "print(sentence_list)\n"
      ]
    },
    {
      "cell_type": "markdown",
      "source": [
        "# **MODELLING**"
      ],
      "metadata": {
        "id": "LLBHoEuyRRPw"
      }
    },
    {
      "cell_type": "markdown",
      "metadata": {
        "id": "A0kZDPHxCRGm"
      },
      "source": [
        "##Proses 3 : Bot Response \n",
        "Bot respon digunakan untuk membuat sebuah percakapan awal antara pengguna dengan bot, jadi disini user dapat menyapa bot."
      ]
    },
    {
      "cell_type": "code",
      "execution_count": null,
      "metadata": {
        "id": "qII0gu1dCRGm"
      },
      "outputs": [],
      "source": [
        "#Membuat fungsi untuk menampilkan respon sapaan secara acak (random) berdasarkan yang ada di-list kepada user\n",
        "def greeting_response(text):\n",
        "    text = text.lower()\n",
        "    \n",
        "    #List sapaan dari bot kepada user\n",
        "    bot_greetings = ['hi','hello','hola', 'halo', 'hai', 'yuhuu', 'selamat pagi juga', 'selamat siang juga', 'selamat sore juga', 'selamat malam juga']\n",
        "    \n",
        "    #List sapaan dari user kepada bot\n",
        "    user_greetings = ['hi', 'hey', 'hello', 'Halo','Hai','wassup', 'permisi', 'punten', 'selamat pagi', 'selamat siang', 'selamat sore', 'selamat malam']\n",
        "    \n",
        "    for word in text.split():\n",
        "        if word in user_greetings:\n",
        "            return random.choice(bot_greetings)\n",
        "        \n",
        "    #Random response to greeting\n",
        "    def gratitude_response(text):\n",
        "        text=text.lower()"
      ]
    },
    {
      "cell_type": "markdown",
      "metadata": {
        "id": "oTHbuHoO_SXL"
      },
      "source": [
        "## Sorting List"
      ]
    },
    {
      "cell_type": "code",
      "execution_count": null,
      "metadata": {
        "id": "ZQnYG5nQCRGn"
      },
      "outputs": [],
      "source": [
        "#Membuat sorting list untuk respon chatbot\n",
        "def index_sort(list_var):\n",
        "    length = len(list_var)\n",
        "    list_index = list(range(0, length))\n",
        "    \n",
        "    x = list_var        \n",
        "    for i in range(length):\n",
        "        for j in range(length):\n",
        "            if x[list_index[i]] > x[list_index[j]]:\n",
        "                #swap\n",
        "                temp = list_index[i]\n",
        "                list_index[i] = list_index[j]\n",
        "                list_index[j] = temp\n",
        "                \n",
        "    return list_index"
      ]
    },
    {
      "cell_type": "markdown",
      "metadata": {
        "id": "tIuiijdc_YZ2"
      },
      "source": [
        "## Chatbot Respon Menggunakan Cosine Similarity\n",
        "Pada respon bot menggunakan teknis Cosine Similarity untuk menghitung kata yang cocok dengan yang di input user terhadap respon dari Bot\n"
      ]
    },
    {
      "cell_type": "code",
      "execution_count": null,
      "metadata": {
        "id": "VrBJ58bvCRGn"
      },
      "outputs": [],
      "source": [
        "#Membuat fungsi untuk respon dari bot\n",
        "def bot_response(user_input):\n",
        "    user_input=user_input.lower()\n",
        "    sentence_list.append(user_input)\n",
        "    bot_response= ''\n",
        "    cm=CountVectorizer().fit_transform(sentence_list)\n",
        "    similarity_scores=cosine_similarity(cm[-1],cm)\n",
        "    similarity_scores_list=similarity_scores.flatten()\n",
        "    index=index_sort(similarity_scores_list)\n",
        "    index=index[1:]\n",
        "    response_flag=0\n",
        "    \n",
        "    j=0\n",
        "    for i in range(len(index)):\n",
        "        if similarity_scores_list[index[i]]>0.0:\n",
        "            bot_response=bot_response+' '+sentence_list[index[i]]\n",
        "            response_flag=1\n",
        "            j=j+1\n",
        "        if j>2:\n",
        "            break\n",
        "\n",
        "        if response_flag==0:\n",
        "            bot_response=bot_response+\" \"+\"Mohon maaf, perkataan Anda tidak dimengerti. Tanyakan hal lain!\" #Memberikan respon ini apabila sistem tidak mengenal kata yang user input\n",
        "\n",
        "        sentence_list.remove(user_input) \n",
        "\n",
        "        return bot_response"
      ]
    },
    {
      "cell_type": "markdown",
      "metadata": {
        "id": "2fvjGhBU_nyk"
      },
      "source": [
        "Pada listing kode >bot_response=bot_response+\" \"+\"Mohon maaf, perkataan Anda tidak dimengerti. Tanyakan hal lain!\" pada list kode ini kata 'Mohon maaf' tujuannya untuk memberikan respon karena sistem tidak mengenali kata yang kita input, jadi sebagai bentuk respon bot kepada user."
      ]
    },
    {
      "cell_type": "markdown",
      "metadata": {
        "id": "8-C33RGuCRGo"
      },
      "source": [
        "## Proses 4 (End Process, Making chat box)"
      ]
    },
    {
      "cell_type": "markdown",
      "source": [
        "Terlebih dahulu membuat akses ke google drive untuk menyimpan output berupa voice dari Chatbot "
      ],
      "metadata": {
        "id": "rY7Gmzo5o8xu"
      }
    },
    {
      "cell_type": "code",
      "source": [
        "from google.colab import drive\n",
        "drive.mount('/content/drive')"
      ],
      "metadata": {
        "colab": {
          "base_uri": "https://localhost:8080/"
        },
        "id": "K6B4Yo3yKiLz",
        "outputId": "5b695520-ae7c-4b85-9242-f9e26424c6ba"
      },
      "execution_count": null,
      "outputs": [
        {
          "output_type": "stream",
          "name": "stdout",
          "text": [
            "Mounted at /content/drive\n"
          ]
        }
      ]
    },
    {
      "cell_type": "code",
      "source": [
        "#Start Chat\n",
        "print(\"\\bMentalIllnes Bot: Hai, aku adalah bot yang akan menjawab pertanyaanmu terkait Kesehatan Mental.\")\n",
        "print(\"\\nJika Anda ingin keluar, ketik [exit/bye/keluar/quit] atau Tanyakan sesuatu tentang Gangguan Mental\\n \")\n",
        "\n",
        "exit_list=['exit', 'bye', 'keluar', 'quit', 'sampai jumpa']\n",
        "\n",
        "while(True):\n",
        "    user_input=input()\n",
        "    if user_input.lower() in exit_list:\n",
        "        print('MentalIllnes Bot: Terimakasih telah menggunakan Chatbot ini! :)')\n",
        "        break\n",
        "    else:\n",
        "        if greeting_response(user_input)!= None:\n",
        "            print('MentalIllnes Bot: '+ greeting_response(user_input))\n",
        "        else:\n",
        "            print('MentalIllnes Bot: '+ bot_response(user_input))\n",
        "            tts = gTTS(bot_response(user_input), lang='id')\n",
        "            tts.save('/content/drive/MyDrive/Dataset/voiceMentalIllnes.wav')\n",
        "            time.sleep(0.08)\n",
        "            print(\"Kamu:\\n\")\n",
        "            ipd.display(ipd.Audio('/content/drive/MyDrive/Dataset/voiceMentalIllnes.wav', autoplay=True))\n",
        "            \n",
        "            print(\"=\"*60 + \"\\n\")"
      ],
      "metadata": {
        "colab": {
          "base_uri": "https://localhost:8080/"
        },
        "id": "CcLUvoc9wCZB",
        "outputId": "aab6cf78-1061-4741-9750-56d825ebd4d3"
      },
      "execution_count": null,
      "outputs": [
        {
          "output_type": "stream",
          "name": "stdout",
          "text": [
            "\bMentalIllnes Bot: Hai, aku adalah bot yang akan menjawab pertanyaanmu terkait Kesehatan Mental.\n",
            "\n",
            "Jika Anda ingin keluar, ketik [exit/bye/keluar/quit] atau Tanyakan sesuatu tentang Gangguan Mental\n",
            " \n"
          ]
        }
      ]
    },
    {
      "cell_type": "markdown",
      "source": [
        "# **EVALUATION**\n",
        "\n",
        "##Kesimpulan\n",
        "Berdasarkan hasil pemodelan di atas, Penyakit Mental ChatbotAI sudah berfungsi dengan baik karena mampu menjawab pertanyaan terkait penyakit mental. Hal ini karena didukung oleh artikel yang digunakan sebagai sumber data si Chatbot untuk menjawab pertanyaan user. Semakin banyak artikel yang digunakan, maka semakin variatif respon yang diberikan oleh Chatbot. Namun tetap perlu memperhatikan kualitas artikel yang digunakan untuk menghasilkan jawaban yang tepat dan maksimal. Pada projek ini kami menggunakan 3 artikel mengenai penyakit mental karena berdasarkan hasil dari model, chatbot dapat memberikan jawaban yang tepat terkait setiap pertanyaan yang biasanya user tanyakan. \n"
      ],
      "metadata": {
        "id": "MN76imSi9C-f"
      }
    }
  ],
  "metadata": {
    "colab": {
      "collapsed_sections": [
        "nnD4ekwe-hsc",
        "LTnOWF68CRGk",
        "bGmRAQ9WCRGl",
        "LLBHoEuyRRPw"
      ],
      "name": "Mental Illness ChatbotAI.ipynb",
      "provenance": []
    },
    "kernelspec": {
      "display_name": "Python 3",
      "language": "python",
      "name": "python3"
    },
    "language_info": {
      "codemirror_mode": {
        "name": "ipython",
        "version": 3
      },
      "file_extension": ".py",
      "mimetype": "text/x-python",
      "name": "python",
      "nbconvert_exporter": "python",
      "pygments_lexer": "ipython3",
      "version": "3.8.8"
    },
    "accelerator": "GPU"
  },
  "nbformat": 4,
  "nbformat_minor": 0
}